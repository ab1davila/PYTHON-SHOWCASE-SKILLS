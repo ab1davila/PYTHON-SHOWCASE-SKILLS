{
 "cells": [
  {
   "cell_type": "markdown",
   "metadata": {},
   "source": [
    "# BMI Calculator"
   ]
  },
  {
   "cell_type": "code",
   "execution_count": null,
   "metadata": {},
   "outputs": [],
   "source": [
    "# BMI= (weight in pounds *703)/(height in inches*height in inches)"
   ]
  },
  {
   "cell_type": "code",
   "execution_count": 16,
   "metadata": {},
   "outputs": [
    {
     "name": "stdout",
     "output_type": "stream",
     "text": [
      "Enter your name:abrielle\n",
      "Enter your weight in pounds:180\n",
      "Enter your height in inches:79\n",
      "20.27559685947765\n",
      "abrielle, you are Normal Weight.\n"
     ]
    }
   ],
   "source": [
    "name= input(\"Enter your name:\")\n",
    "weight= int(input(\"Enter your weight in pounds:\"))\n",
    "height= int(input(\"Enter your height in inches:\"))\n",
    "BMI= (weight * 703)/(height * height)\n",
    "print(BMI)\n",
    "\n",
    "if BMI>0: \n",
    "    if(BMI<18.5): \n",
    "        print(name+\", you are Underweight.\")\n",
    "    elif(BMI<=24.9): \n",
    "        print(name+\", you are Normal Weight.\")\n",
    "    elif(BMI<29.9): \n",
    "        print(name+\", you are Overweight.\")\n",
    "    elif(BMI<34.99): \n",
    "        print(name+\", you are Obese.\")\n",
    "    elif(BMI<39.9): \n",
    "        print(name+\", you are Severely Obese.\")\n",
    "    else: \n",
    "            print(name+\", you are Morbidly Obese.\")\n"
   ]
  },
  {
   "cell_type": "code",
   "execution_count": null,
   "metadata": {},
   "outputs": [],
   "source": []
  },
  {
   "cell_type": "code",
   "execution_count": null,
   "metadata": {},
   "outputs": [],
   "source": [
    "Under 18.5= underwieght Minimal \n",
    "18.5- 24.9= Normal Weight Minimal \n",
    "25- 29.9= Overweigth Increased \n",
    "30-34.99= Obese High\n",
    "35-39.9= Severely Obese Very High \n",
    "40 and over= Morbidly Obese Extremely High"
   ]
  }
 ],
 "metadata": {
  "kernelspec": {
   "display_name": "Python 3",
   "language": "python",
   "name": "python3"
  },
  "language_info": {
   "codemirror_mode": {
    "name": "ipython",
    "version": 3
   },
   "file_extension": ".py",
   "mimetype": "text/x-python",
   "name": "python",
   "nbconvert_exporter": "python",
   "pygments_lexer": "ipython3",
   "version": "3.8.3"
  }
 },
 "nbformat": 4,
 "nbformat_minor": 4
}
